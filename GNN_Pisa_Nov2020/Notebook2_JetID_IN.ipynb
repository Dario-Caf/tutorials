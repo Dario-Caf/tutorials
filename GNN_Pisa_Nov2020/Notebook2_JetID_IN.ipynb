{
 "cells": [
  {
   "cell_type": "markdown",
   "metadata": {},
   "source": [
    "# Training a Jet Tagging with **Interaction Networks** \n",
    "\n",
    "---\n",
    "In this notebook, we perform a Jet identification task using a graph-based multiclass classifier with INs.\n",
    "\n",
    "The problem consists in identifying a given jet as a quark, a gluon, a W, a Z, or a top,\n",
    "based on a jet image, i.e., a 2D histogram of the transverse momentum ($p_T$) deposited in each of 100x100\n",
    "bins of a square window of the ($\\eta$, $\\phi$) plane, centered along the jet axis.\n",
    "\n",
    "For details on the physics problem, see https://arxiv.org/pdf/1804.06913.pdf \n",
    "\n",
    "For details on the dataset, see Notebook1\n",
    "\n",
    "---"
   ]
  },
  {
   "cell_type": "code",
   "execution_count": 1,
   "metadata": {},
   "outputs": [],
   "source": [
    "import os\n",
    "import h5py\n",
    "import glob\n",
    "import numpy as np\n",
    "import matplotlib.pyplot as plt"
   ]
  },
  {
   "cell_type": "code",
   "execution_count": 2,
   "metadata": {},
   "outputs": [],
   "source": [
    "import torch\n",
    "import torch.nn as nn\n",
    "from torch.autograd.variable import *\n",
    "import torch.optim as optim"
   ]
  },
  {
   "cell_type": "code",
   "execution_count": 3,
   "metadata": {},
   "outputs": [],
   "source": [
    "%matplotlib inline"
   ]
  },
  {
   "cell_type": "markdown",
   "metadata": {},
   "source": [
    "# Preparation of the training and validation samples\n",
    "\n",
    "---\n",
    "In order to import the dataset, we now\n",
    "- clone the dataset repository (to import the data in Colab)\n",
    "- load the h5 files in the data/ repository\n",
    "- extract the data we need: a target and jetImage \n",
    "\n",
    "To type shell commands, we start the command line with !"
   ]
  },
  {
   "cell_type": "code",
   "execution_count": 4,
   "metadata": {},
   "outputs": [
    {
     "name": "stdout",
     "output_type": "stream",
     "text": [
      "fatal: destination path 'tutorials' already exists and is not an empty directory.\n",
      "jetImage_7_100p_0_10000.h5     jetImage_7_100p_50000_60000.h5\n",
      "jetImage_7_100p_10000_20000.h5 jetImage_7_100p_60000_70000.h5\n",
      "jetImage_7_100p_30000_40000.h5 jetImage_7_100p_70000_80000.h5\n",
      "jetImage_7_100p_40000_50000.h5 jetImage_7_100p_80000_90000.h5\n"
     ]
    }
   ],
   "source": [
    "! git clone https://github.com/pierinim/tutorials.git\n",
    "! ls tutorials/Data/JetDataset/"
   ]
  },
  {
   "cell_type": "code",
   "execution_count": 5,
   "metadata": {},
   "outputs": [
    {
     "name": "stdout",
     "output_type": "stream",
     "text": [
      "Appending tutorials/Data/JetDataset/jetImage_7_100p_30000_40000.h5\n",
      "Appending tutorials/Data/JetDataset/jetImage_7_100p_60000_70000.h5\n",
      "Appending tutorials/Data/JetDataset/jetImage_7_100p_50000_60000.h5\n",
      "Appending tutorials/Data/JetDataset/jetImage_7_100p_10000_20000.h5\n",
      "Appending tutorials/Data/JetDataset/jetImage_7_100p_0_10000.h5\n",
      "(50000, 5) (50000, 100, 3)\n"
     ]
    }
   ],
   "source": [
    "target = np.array([])\n",
    "jetList = np.array([])\n",
    "# we cannot load all data on Colab. So we just take a few files\n",
    "datafiles = ['tutorials/Data/JetDataset/jetImage_7_100p_30000_40000.h5',\n",
    "           'tutorials/Data/JetDataset/jetImage_7_100p_60000_70000.h5',\n",
    "            'tutorials/Data/JetDataset/jetImage_7_100p_50000_60000.h5',\n",
    "            'tutorials/Data/JetDataset/jetImage_7_100p_10000_20000.h5',\n",
    "            'tutorials/Data/JetDataset/jetImage_7_100p_0_10000.h5']\n",
    "# if you are running locallt, you can use the full dataset doing\n",
    "# for fileIN in glob.glob(\"tutorials/HiggsSchool/data/*h5\"):\n",
    "for fileIN in datafiles:\n",
    "    print(\"Appending %s\" %fileIN)\n",
    "    f = h5py.File(fileIN)\n",
    "    myJetList = np.array(f.get(\"jetConstituentList\")[:,:,[5,8,11]])\n",
    "    mytarget = np.array(f.get('jets')[0:,-6:-1])\n",
    "    jetList = np.concatenate([jetList, myJetList], axis=0) if jetList.size else myJetList\n",
    "    target = np.concatenate([target, mytarget], axis=0) if target.size else mytarget\n",
    "    del myJetList, mytarget\n",
    "    f.close()\n",
    "print(target.shape, jetList.shape)"
   ]
  },
  {
   "cell_type": "code",
   "execution_count": 6,
   "metadata": {},
   "outputs": [],
   "source": [
    "# pytorch Cross Entropy doesn't support one-hot encoding\n",
    "target = np.argmax(target, axis=1)\n",
    "# the dataset is N_jets x N_particles x N_features\n",
    "# the IN wants N_jets x N_features x N_particles\n",
    "jetList = np.swapaxes(jetList, 1, 2)"
   ]
  },
  {
   "cell_type": "markdown",
   "metadata": {},
   "source": [
    "The dataset consists of 50K with up to 100 particles in each jet. These 100 particles have been used to fill the 100x100 jet images.\n",
    "\n",
    "---\n",
    "\n",
    "We now shuffle the data, splitting them into a training and a validation dataset with 2:1 ratio"
   ]
  },
  {
   "cell_type": "code",
   "execution_count": 7,
   "metadata": {},
   "outputs": [
    {
     "name": "stdout",
     "output_type": "stream",
     "text": [
      "(50000, 3, 30)\n"
     ]
    }
   ],
   "source": [
    "nParticle = 30\n",
    "jetList = jetList[:,:,:nParticle]\n",
    "print(jetList.shape)"
   ]
  },
  {
   "cell_type": "code",
   "execution_count": 8,
   "metadata": {},
   "outputs": [
    {
     "name": "stdout",
     "output_type": "stream",
     "text": [
      "(33500, 3, 30) (16500, 3, 30) (33500,) (16500,)\n"
     ]
    }
   ],
   "source": [
    "from sklearn.model_selection import train_test_split\n",
    "X_train, X_val, y_train, y_val = train_test_split(jetList, target, test_size=0.33)\n",
    "print(X_train.shape, X_val.shape, y_train.shape, y_val.shape)\n",
    "del jetList, target"
   ]
  },
  {
   "cell_type": "code",
   "execution_count": 9,
   "metadata": {},
   "outputs": [],
   "source": [
    "#set to 1 if using GPU\n",
    "args_cuda = 0"
   ]
  },
  {
   "cell_type": "code",
   "execution_count": 10,
   "metadata": {},
   "outputs": [],
   "source": [
    "# Convert dataset to pytorch\n",
    "if args_cuda:\n",
    "    X_train = Variable(torch.FloatTensor(X_train)).cuda()\n",
    "    X_val = Variable(torch.FloatTensor(X_val)).cuda()\n",
    "    y_train = Variable(torch.LongTensor(y_train).long()).cuda()  \n",
    "    y_val = Variable(torch.LongTensor(y_val).long()).cuda()\n",
    "else:\n",
    "    X_train = Variable(torch.FloatTensor(X_train))\n",
    "    X_val = Variable(torch.FloatTensor(X_val))\n",
    "    y_train = Variable(torch.LongTensor(y_train).long())  \n",
    "    y_val = Variable(torch.LongTensor(y_val).long())  "
   ]
  },
  {
   "cell_type": "markdown",
   "metadata": {},
   "source": [
    "# Building the IN model"
   ]
  },
  {
   "cell_type": "code",
   "execution_count": 11,
   "metadata": {},
   "outputs": [],
   "source": [
    "import itertools\n",
    "\n",
    "class GraphNet(nn.Module):\n",
    "    def __init__(self):\n",
    "        super(GraphNet, self).__init__()\n",
    "        self.hidden = 10\n",
    "        self.P = 3\n",
    "        self.N = nParticle\n",
    "        self.Nr = self.N * (self.N - 1)\n",
    "        self.De = 8\n",
    "        self.Do = 8\n",
    "        self.n_targets = 5\n",
    "        self.assign_matrices()\n",
    "        if args_cuda: \n",
    "            #self.Ra = torch.ones(self.Dr, self.Nr).cuda()\n",
    "            self.fr1 = nn.Linear(2 * self.P, self.hidden).cuda()\n",
    "            self.fr2 = nn.Linear(self.hidden, self.hidden).cuda()\n",
    "            self.fr3 = nn.Linear(self.hidden, self.De).cuda()\n",
    "            self.fo1 = nn.Linear(self.P + self.De, self.hidden).cuda()\n",
    "            self.fo2 = nn.Linear(self.hidden, self.hidden).cuda()\n",
    "            self.fo3 = nn.Linear(self.hidden, self.Do).cuda()\n",
    "            self.fc1 = nn.Linear(self.Do, self.hidden).cuda()\n",
    "            self.fc2 = nn.Linear(self.hidden, self.hidden).cuda()\n",
    "            self.fc3 = nn.Linear(self.hidden, self.n_targets).cuda()\n",
    "        else:\n",
    "            #self.Ra = torch.ones(self.Dr, self.Nr)\n",
    "            self.fr1 = nn.Linear(2 * self.P, self.hidden)\n",
    "            self.fr2 = nn.Linear(self.hidden, self.hidden)\n",
    "            self.fr3 = nn.Linear(self.hidden, self.De)\n",
    "            self.fo1 = nn.Linear(self.P + self.De, self.hidden)\n",
    "            self.fo2 = nn.Linear(self.hidden, self.hidden)\n",
    "            self.fo3 = nn.Linear(self.hidden, self.Do)\n",
    "            self.fc1 = nn.Linear(self.Do, self.hidden)\n",
    "            self.fc2 = nn.Linear(self.hidden, self.hidden)\n",
    "            self.fc3 = nn.Linear(self.hidden, self.n_targets)\n",
    "             \n",
    "    def assign_matrices(self):\n",
    "        self.Rr = torch.zeros(self.N, self.Nr)\n",
    "        self.Rs = torch.zeros(self.N, self.Nr)\n",
    "        receiver_sender_list = [i for i in itertools.product(range(self.N), range(self.N)) if i[0]!=i[1]]\n",
    "        for i, (r, s) in enumerate(receiver_sender_list):\n",
    "            self.Rr[r, i] = 1\n",
    "            self.Rs[s, i] = 1\n",
    "        if args_cuda: \n",
    "            self.Rr = Variable(self.Rr).cuda()\n",
    "            self.Rs = Variable(self.Rs).cuda()  \n",
    "        else:\n",
    "            self.Rr = Variable(self.Rr)\n",
    "            self.Rs = Variable(self.Rs)\n",
    "\n",
    "    def forward(self, x):\n",
    "        Orr = self.tmul(x, self.Rr)\n",
    "        Ors = self.tmul(x, self.Rs)\n",
    "        B = torch.cat([Orr, Ors], 1)\n",
    "        ### First MLP ###\n",
    "        B = torch.transpose(B, 1, 2).contiguous()\n",
    "        B = nn.functional.relu(self.fr1(B.view(-1, 2 * self.P)))\n",
    "        B = nn.functional.relu(self.fr2(B))\n",
    "        E = nn.functional.relu(self.fr3(B).view(-1, self.Nr, self.De))\n",
    "        del B\n",
    "        E = torch.transpose(E, 1, 2).contiguous()\n",
    "        Ebar = self.tmul(E, torch.transpose(self.Rr, 0, 1).contiguous())\n",
    "        del E\n",
    "        C = torch.cat([x, Ebar], 1)\n",
    "        del Ebar\n",
    "        C = torch.transpose(C, 1, 2).contiguous()\n",
    "        ### Second MLP ###\n",
    "        C = nn.functional.relu(self.fo1(C.view(-1, self.P + self.De)))\n",
    "        C = nn.functional.relu(self.fo2(C))\n",
    "        O = nn.functional.relu(self.fo3(C).view(-1, self.N, self.Do))\n",
    "        del C\n",
    "        # sum over constituents\n",
    "        O = torch.sum(O,1)\n",
    "        ### Classification MLP ###\n",
    "        N = nn.functional.relu(self.fc1(O.view(-1, self.Do)))\n",
    "        N = nn.functional.relu(self.fc2(N))\n",
    "        del O\n",
    "        N = self.fc3(N)\n",
    "        return N\n",
    "\n",
    "    def tmul(self, x, y):  #Takes (I * J * K)(K * L) -> I * J * L \n",
    "        x_shape = x.size()\n",
    "        y_shape = y.size()\n",
    "        return torch.mm(x.view(-1, x_shape[2]), y).view(-1, x_shape[1], y_shape[1])\n",
    "\n",
    "def get_sample(training, target, choice):\n",
    "    target_vals = np.argmax(target, axis = 1)\n",
    "    ind, = np.where(target_vals == choice)\n",
    "    chosen_ind = np.random.choice(ind, 50000)\n",
    "    return training[chosen_ind], target[chosen_ind]"
   ]
  },
  {
   "cell_type": "markdown",
   "metadata": {},
   "source": [
    "## Training"
   ]
  },
  {
   "cell_type": "code",
   "execution_count": 12,
   "metadata": {},
   "outputs": [],
   "source": [
    "n_epochs = 300\n",
    "batch_size = 100\n",
    "patience =  10"
   ]
  },
  {
   "cell_type": "code",
   "execution_count": 13,
   "metadata": {},
   "outputs": [
    {
     "name": "stdout",
     "output_type": "stream",
     "text": [
      "Epoch 0\n",
      "Training   Loss: 1.528292\n",
      "Validation Loss: 1.575363\n",
      "Epoch 1\n",
      "Training   Loss: 1.455995\n",
      "Validation Loss: 1.444677\n",
      "Epoch 2\n",
      "Training   Loss: 1.432890\n",
      "Validation Loss: 1.412199\n",
      "Epoch 3\n",
      "Training   Loss: 1.418951\n",
      "Validation Loss: 1.410368\n",
      "Epoch 4\n",
      "Training   Loss: 1.403079\n",
      "Validation Loss: 1.405578\n",
      "Epoch 5\n",
      "Training   Loss: 1.389325\n",
      "Validation Loss: 1.400816\n",
      "Epoch 6\n",
      "Training   Loss: 1.386052\n",
      "Validation Loss: 1.395524\n",
      "Epoch 7\n",
      "Training   Loss: 1.387336\n",
      "Validation Loss: 1.385418\n",
      "Epoch 8\n",
      "Training   Loss: 1.387006\n",
      "Validation Loss: 1.380043\n",
      "Epoch 9\n",
      "Training   Loss: 1.388546\n",
      "Validation Loss: 1.372434\n",
      "Epoch 10\n",
      "Training   Loss: 1.388829\n",
      "Validation Loss: 1.365584\n",
      "Epoch 11\n",
      "Training   Loss: 1.387462\n",
      "Validation Loss: 1.361401\n",
      "Epoch 12\n",
      "Training   Loss: 1.386286\n",
      "Validation Loss: 1.354416\n",
      "Epoch 13\n",
      "Training   Loss: 1.386454\n",
      "Validation Loss: 1.349270\n",
      "Epoch 14\n",
      "Training   Loss: 1.381767\n",
      "Validation Loss: 1.345500\n",
      "Epoch 15\n",
      "Training   Loss: 1.378221\n",
      "Validation Loss: 1.343937\n",
      "Epoch 16\n",
      "Training   Loss: 1.375066\n",
      "Validation Loss: 1.340540\n",
      "Epoch 17\n",
      "Training   Loss: 1.371499\n",
      "Validation Loss: 1.338897\n",
      "Epoch 18\n",
      "Training   Loss: 1.368084\n",
      "Validation Loss: 1.337907\n",
      "Epoch 19\n",
      "Training   Loss: 1.361678\n",
      "Validation Loss: 1.329864\n",
      "Epoch 20\n",
      "Training   Loss: 1.356300\n",
      "Validation Loss: 1.324149\n",
      "Epoch 21\n",
      "Training   Loss: 1.352468\n",
      "Validation Loss: 1.320095\n",
      "Epoch 22\n",
      "Training   Loss: 1.347565\n",
      "Validation Loss: 1.318368\n",
      "Epoch 23\n",
      "Training   Loss: 1.341314\n",
      "Validation Loss: 1.313629\n",
      "Epoch 24\n",
      "Training   Loss: 1.334251\n",
      "Validation Loss: 1.306334\n",
      "Epoch 25\n",
      "Training   Loss: 1.331967\n",
      "Validation Loss: 1.305134\n",
      "Epoch 26\n",
      "Training   Loss: 1.326382\n",
      "Validation Loss: 1.303951\n",
      "Epoch 27\n",
      "Training   Loss: 1.319718\n",
      "Validation Loss: 1.300577\n",
      "Epoch 28\n",
      "Training   Loss: 1.311304\n",
      "Validation Loss: 1.294711\n",
      "Epoch 29\n",
      "Training   Loss: 1.312018\n",
      "Validation Loss: 1.296813\n",
      "Epoch 30\n",
      "Training   Loss: 1.305321\n",
      "Validation Loss: 1.293163\n",
      "Epoch 31\n",
      "Training   Loss: 1.305078\n",
      "Validation Loss: 1.296829\n",
      "Epoch 32\n",
      "Training   Loss: 1.302891\n",
      "Validation Loss: 1.296932\n",
      "Epoch 33\n",
      "Training   Loss: 1.298814\n",
      "Validation Loss: 1.292916\n",
      "Epoch 34\n",
      "Training   Loss: 1.297644\n",
      "Validation Loss: 1.293180\n",
      "Epoch 35\n",
      "Training   Loss: 1.295482\n",
      "Validation Loss: 1.290753\n",
      "Epoch 36\n",
      "Training   Loss: 1.295075\n",
      "Validation Loss: 1.290959\n",
      "Epoch 37\n",
      "Training   Loss: 1.294862\n",
      "Validation Loss: 1.289320\n",
      "Epoch 38\n",
      "Training   Loss: 1.292574\n",
      "Validation Loss: 1.287328\n",
      "Epoch 39\n",
      "Training   Loss: 1.290641\n",
      "Validation Loss: 1.285643\n",
      "Epoch 40\n",
      "Training   Loss: 1.290738\n",
      "Validation Loss: 1.285118\n",
      "Epoch 41\n",
      "Training   Loss: 1.289543\n",
      "Validation Loss: 1.284135\n",
      "Epoch 42\n",
      "Training   Loss: 1.288186\n",
      "Validation Loss: 1.283228\n",
      "Epoch 43\n",
      "Training   Loss: 1.286446\n",
      "Validation Loss: 1.281990\n",
      "Epoch 44\n",
      "Training   Loss: 1.285198\n",
      "Validation Loss: 1.281361\n",
      "Epoch 45\n",
      "Training   Loss: 1.286799\n",
      "Validation Loss: 1.282564\n",
      "Epoch 46\n",
      "Training   Loss: 1.286967\n",
      "Validation Loss: 1.282206\n",
      "Epoch 47\n",
      "Training   Loss: 1.285393\n",
      "Validation Loss: 1.280414\n",
      "Epoch 48\n",
      "Training   Loss: 1.283804\n",
      "Validation Loss: 1.280299\n",
      "Epoch 49\n",
      "Training   Loss: 1.285511\n",
      "Validation Loss: 1.281215\n",
      "Epoch 50\n",
      "Training   Loss: 1.283388\n",
      "Validation Loss: 1.278591\n",
      "Epoch 51\n",
      "Training   Loss: 1.282291\n",
      "Validation Loss: 1.279027\n",
      "Epoch 52\n",
      "Training   Loss: 1.281927\n",
      "Validation Loss: 1.276999\n",
      "Epoch 53\n",
      "Training   Loss: 1.280127\n",
      "Validation Loss: 1.276881\n",
      "Epoch 54\n",
      "Training   Loss: 1.281578\n",
      "Validation Loss: 1.278689\n",
      "Epoch 55\n",
      "Training   Loss: 1.282129\n",
      "Validation Loss: 1.279366\n",
      "Epoch 56\n",
      "Training   Loss: 1.280868\n",
      "Validation Loss: 1.278759\n",
      "Epoch 57\n",
      "Training   Loss: 1.282148\n",
      "Validation Loss: 1.279851\n",
      "Epoch 58\n",
      "Training   Loss: 1.280915\n",
      "Validation Loss: 1.278653\n",
      "Epoch 59\n",
      "Training   Loss: 1.280661\n",
      "Validation Loss: 1.279987\n",
      "Epoch 60\n",
      "Training   Loss: 1.281793\n",
      "Validation Loss: 1.281014\n",
      "Epoch 61\n",
      "Training   Loss: 1.279900\n",
      "Validation Loss: 1.279985\n",
      "Epoch 62\n",
      "Training   Loss: 1.280278\n",
      "Validation Loss: 1.281063\n",
      "Epoch 63\n",
      "Training   Loss: 1.282053\n",
      "Validation Loss: 1.282470\n",
      "Epoch 64\n",
      "Training   Loss: 1.281520\n",
      "Validation Loss: 1.282274\n",
      "Early Stopping\n"
     ]
    }
   ],
   "source": [
    "#import util\n",
    "# instantiate the model & setup training\n",
    "# relu\n",
    "gnn = GraphNet()\n",
    "loss = nn.CrossEntropyLoss()\n",
    "optimizer = optim.Adam(gnn.parameters(), lr = 0.0001)\n",
    "\n",
    "loss_train = np.zeros(n_epochs)\n",
    "acc_train = np.zeros(n_epochs)\n",
    "loss_val = np.zeros(n_epochs)\n",
    "acc_val = np.zeros(n_epochs)\n",
    "for i in range(n_epochs):\n",
    "    print(\"Epoch %s\" % i)\n",
    "    for j in range(0, X_train.size()[0], batch_size):\n",
    "        optimizer.zero_grad()\n",
    "        if args_cuda: \n",
    "            out = gnn(X_train[j:j + batch_size,:,:]).cuda()\n",
    "            target = y_train[j:j + batch_size].cuda() \n",
    "        else: \n",
    "            out = gnn(X_train[j:j + batch_size,:,:])\n",
    "            target = y_train[j:j + batch_size]\n",
    "       \n",
    "        l = loss(out, target)\n",
    "        l.backward()\n",
    "        optimizer.step()\n",
    "        loss_train[i] += l.cpu().data.numpy()*batch_size\n",
    "    loss_train[i] = loss_train[i]/X_train.shape[0]\n",
    "    #acc_train[i] = stats(predicted, Y_val)\n",
    "    #### val loss & accuracy\n",
    "    for j in range(0, X_val.size()[0], batch_size):\n",
    "        if args_cuda:\n",
    "            out_val = gnn(X_val[j:j + batch_size]).cuda()\n",
    "            target_val = y_val[j:j + batch_size].cuda()\n",
    "        else:\n",
    "            out_val = gnn(X_val[j:j + batch_size])\n",
    "            target_val =  y_val[j:j + batch_size]\n",
    "        \n",
    "        l_val = loss(out_val,target_val)\n",
    "        loss_val[i] += l_val.cpu().data.numpy()*batch_size\n",
    "    loss_val[i] = loss_val[i]/X_val.shape[0]\n",
    "    print(\"Training   Loss: %f\" %l.cpu().data.numpy())\n",
    "    print(\"Validation Loss: %f\" %l_val.cpu().data.numpy())\n",
    "    if all(loss_val[max(0, i - patience):i] > min(np.append(loss_val[0:max(0, i - patience)], 200))) and i > patience:\n",
    "        print(\"Early Stopping\")\n",
    "        break\n",
    "    print"
   ]
  },
  {
   "cell_type": "markdown",
   "metadata": {},
   "source": [
    "# Training history"
   ]
  },
  {
   "cell_type": "code",
   "execution_count": 14,
   "metadata": {},
   "outputs": [
    {
     "data": {
      "image/png": "[encoded data removed]",
      "text/plain": [
       "<Figure size 432x288 with 1 Axes>"
      ]
     },
     "metadata": {
      "needs_background": "light"
     },
     "output_type": "display_data"
    }
   ],
   "source": [
    "epoch_number = list(range((loss_train > 0.).sum()))\n",
    "plt.figure()\n",
    "plt.plot(epoch_number, loss_train[loss_train>0.],label='Training Loss')\n",
    "plt.plot(epoch_number, loss_val[loss_train>0.],label='Validation Loss')\n",
    "plt.ylabel(\"Loss\")\n",
    "plt.xlabel(\"Epoch\")\n",
    "plt.grid(True)\n",
    "plt.legend(loc='upper right')\n",
    "#plt.savefig('%s/ROC.pdf'%(options.outputDir))\n",
    "plt.show()"
   ]
  },
  {
   "cell_type": "markdown",
   "metadata": {},
   "source": [
    "# Building the ROC Curves"
   ]
  },
  {
   "cell_type": "code",
   "execution_count": 15,
   "metadata": {},
   "outputs": [],
   "source": [
    "labels = ['gluon', 'quark', 'W', 'Z', 'top']"
   ]
  },
  {
   "cell_type": "code",
   "execution_count": 16,
   "metadata": {},
   "outputs": [],
   "source": [
    "lst = []\n",
    "n_batches_val = int(X_val.size()[0]/batch_size)\n",
    "if args_cuda:    \n",
    "    for j in torch.split(X_val, n_batches_val).cuda():\n",
    "        a = gnn(j).cpu().data.numpy()\n",
    "        lst.append(a)\n",
    "else:\n",
    "    for j in torch.split(X_val, n_batches_val):\n",
    "        a = gnn(j).cpu().data.numpy()\n",
    "        lst.append(a)\n",
    "predicted = Variable(torch.FloatTensor(np.concatenate(lst)))"
   ]
  },
  {
   "cell_type": "code",
   "execution_count": 17,
   "metadata": {},
   "outputs": [],
   "source": [
    "# there is no softmax in the output layer. We have to put it by \n",
    "predicted = torch.nn.functional.softmax(predicted, dim=1)"
   ]
  },
  {
   "cell_type": "code",
   "execution_count": 18,
   "metadata": {},
   "outputs": [],
   "source": [
    "predict_val = predicted.data.numpy()\n",
    "true_val = y_val.data.numpy()"
   ]
  },
  {
   "cell_type": "code",
   "execution_count": 19,
   "metadata": {},
   "outputs": [
    {
     "data": {
      "image/png": "[encoded data removed]",
      "text/plain": [
       "<Figure size 432x288 with 1 Axes>"
      ]
     },
     "metadata": {
      "needs_background": "light"
     },
     "output_type": "display_data"
    }
   ],
   "source": [
    "from sklearn.metrics import roc_curve, auc\n",
    "#### get the ROC curves\n",
    "fpr = {}\n",
    "tpr = {}\n",
    "auc1 = {}\n",
    "plt.figure()\n",
    "for i, label in enumerate(labels):\n",
    "        fpr[label], tpr[label], threshold = roc_curve((true_val== i), predict_val[:,i])\n",
    "        auc1[label] = auc(fpr[label], tpr[label])\n",
    "        plt.plot(tpr[label],fpr[label],label='%s tagger, auc = %.1f%%'%(label,auc1[label]*100.))\n",
    "plt.semilogy()\n",
    "plt.xlabel(\"sig. efficiency\")\n",
    "plt.ylabel(\"bkg. mistag rate\")\n",
    "plt.ylim(0.001,1)\n",
    "plt.grid(True)\n",
    "plt.legend(loc='lower right')\n",
    "#plt.savefig('%s/ROC.pdf'%(options.outputDir))\n",
    "plt.show()"
   ]
  },
  {
   "cell_type": "code",
   "execution_count": null,
   "metadata": {},
   "outputs": [],
   "source": []
  }
 ],
 "metadata": {
  "kernelspec": {
   "display_name": "Python 3",
   "language": "python",
   "name": "python3"
  },
  "language_info": {
   "codemirror_mode": {
    "name": "ipython",
    "version": 3
   },
   "file_extension": ".py",
   "mimetype": "text/x-python",
   "name": "python",
   "nbconvert_exporter": "python",
   "pygments_lexer": "ipython3",
   "version": "3.7.3"
  }
 },
 "nbformat": 4,
 "nbformat_minor": 2
}
