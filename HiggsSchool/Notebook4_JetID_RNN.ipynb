{
 "cells": [
  {
   "cell_type": "markdown",
   "metadata": {},
   "source": [
    "# Training a Jet Tagging with **Recurrent Neural Network** \n",
    "\n",
    "---\n",
    "In this notebook, we perform a Jet identification task using a multiclass classifier with a GRU unit.\n",
    "Gated Recurrent Units are one kind of RNNs. \n",
    "\n",
    "The problem consists in identifying a given jet as a quark, a gluon, a W, a Z, or a top,\n",
    "based on a jet image, i.e., a 2D histogram of the transverse momentum ($p_T$) deposited in each of 100x100\n",
    "bins of a square window of the ($\\eta$, $\\phi$) plane, centered along the jet axis.\n",
    "\n",
    "For details on the physics problem, see https://arxiv.org/pdf/1804.06913.pdf \n",
    "\n",
    "For details on the dataset, see Notebook1\n",
    "\n",
    "---"
   ]
  },
  {
   "cell_type": "code",
   "execution_count": 2,
   "metadata": {},
   "outputs": [],
   "source": [
    "import os\n",
    "import h5py\n",
    "import glob\n",
    "import numpy as np\n",
    "import matplotlib.pyplot as plt"
   ]
  },
  {
   "cell_type": "code",
   "execution_count": 3,
   "metadata": {},
   "outputs": [],
   "source": [
    "%matplotlib inline"
   ]
  },
  {
   "cell_type": "markdown",
   "metadata": {},
   "source": [
    "# Preparation of the training and validation samples\n",
    "\n",
    "---\n",
    "In order to import the dataset, we now\n",
    "- clone the dataset repository (to import the data in Colab)\n",
    "- load the h5 files in the data/ repository\n",
    "- extract the data we need: a target and jetImage \n",
    "\n",
    "To type shell commands, we start the command line with !"
   ]
  },
  {
   "cell_type": "code",
   "execution_count": 4,
   "metadata": {},
   "outputs": [
    {
     "name": "stdout",
     "output_type": "stream",
     "text": [
      "Cloning into 'tutorials'...\n",
      "remote: Enumerating objects: 40, done.\u001b[K\n",
      "remote: Counting objects: 100% (40/40), done.\u001b[K\n",
      "remote: Compressing objects: 100% (37/37), done.\u001b[K\n",
      "remote: Total 40 (delta 8), reused 21 (delta 3), pack-reused 0\u001b[K\n",
      "Unpacking objects: 100% (40/40), done.\n",
      "Checking out files: 100% (20/20), done.\n"
     ]
    }
   ],
   "source": [
    "! git clone https://github.com/pierinim/tutorials.git"
   ]
  },
  {
   "cell_type": "code",
   "execution_count": 6,
   "metadata": {},
   "outputs": [
    {
     "name": "stdout",
     "output_type": "stream",
     "text": [
      "jetImage_7_100p_0_10000.h5     jetImage_7_100p_50000_60000.h5\r\n",
      "jetImage_7_100p_10000_20000.h5 jetImage_7_100p_60000_70000.h5\r\n",
      "jetImage_7_100p_30000_40000.h5 jetImage_7_100p_70000_80000.h5\r\n",
      "jetImage_7_100p_40000_50000.h5 jetImage_7_100p_80000_90000.h5\r\n"
     ]
    }
   ],
   "source": [
    "! ls tutorials/HiggsSchool/data"
   ]
  },
  {
   "cell_type": "code",
   "execution_count": 7,
   "metadata": {},
   "outputs": [
    {
     "name": "stdout",
     "output_type": "stream",
     "text": [
      "Appending tutorials/HiggsSchool/data/jetImage_7_100p_30000_40000.h5\n",
      "Appending tutorials/HiggsSchool/data/jetImage_7_100p_60000_70000.h5\n",
      "Appending tutorials/HiggsSchool/data/jetImage_7_100p_50000_60000.h5\n",
      "Appending tutorials/HiggsSchool/data/jetImage_7_100p_10000_20000.h5\n",
      "Appending tutorials/HiggsSchool/data/jetImage_7_100p_0_10000.h5\n",
      "(50000, 5) (50000, 100, 16)\n"
     ]
    }
   ],
   "source": [
    "target = np.array([])\n",
    "jetList = np.array([])\n",
    "# we cannot load all data on Colab. So we just take a few files\n",
    "datafiles = ['tutorials/HiggsSchool/data/jetImage_7_100p_30000_40000.h5',\n",
    "           'tutorials/HiggsSchool/data/jetImage_7_100p_60000_70000.h5',\n",
    "            'tutorials/HiggsSchool/data/jetImage_7_100p_50000_60000.h5',\n",
    "            'tutorials/HiggsSchool/data/jetImage_7_100p_10000_20000.h5',\n",
    "            'tutorials/HiggsSchool/data/jetImage_7_100p_0_10000.h5']\n",
    "# if you are running locallt, you can use the full dataset doing\n",
    "# for fileIN in glob.glob(\"tutorials/HiggsSchool/data/*h5\"):\n",
    "for fileIN in datafiles:\n",
    "    print(\"Appending %s\" %fileIN)\n",
    "    f = h5py.File(fileIN)\n",
    "    myJetList = np.array(f.get(\"jetConstituentList\"))\n",
    "    mytarget = np.array(f.get('jets')[0:,-6:-1])\n",
    "    jetList = np.concatenate([jetList, myJetList], axis=0) if jetList.size else myJetList\n",
    "    target = np.concatenate([target, mytarget], axis=0) if target.size else mytarget\n",
    "    del myJetList, mytarget\n",
    "print(target.shape, jetList.shape)"
   ]
  },
  {
   "cell_type": "markdown",
   "metadata": {},
   "source": [
    "The dataset consists of XXX with up to 100 particles in each jet. These 100 particles have been used to fill the 100x100 jet images.\n",
    "\n",
    "---\n",
    "\n",
    "We now shuffle the data, splitting them into a training and a validation dataset with 2:1 ratio"
   ]
  },
  {
   "cell_type": "code",
   "execution_count": 8,
   "metadata": {},
   "outputs": [
    {
     "name": "stdout",
     "output_type": "stream",
     "text": [
      "(33500, 100, 16) (16500, 100, 16) (33500, 5) (16500, 5)\n"
     ]
    }
   ],
   "source": [
    "from sklearn.model_selection import train_test_split\n",
    "X_train, X_val, y_train, y_val = train_test_split(jetList, target, test_size=0.33)\n",
    "print(X_train.shape, X_val.shape, y_train.shape, y_val.shape)\n",
    "del jetList, target"
   ]
  },
  {
   "cell_type": "markdown",
   "metadata": {},
   "source": [
    "# Building the RNN model"
   ]
  },
  {
   "cell_type": "code",
   "execution_count": 13,
   "metadata": {},
   "outputs": [],
   "source": [
    "# keras imports\n",
    "from keras.models import Model\n",
    "from keras.layers import Dense, Input, GRU, Dropout\n",
    "from keras.utils import plot_model\n",
    "from keras import backend as K\n",
    "from keras import metrics\n",
    "from keras.callbacks import EarlyStopping, ReduceLROnPlateau, TerminateOnNaN"
   ]
  },
  {
   "cell_type": "code",
   "execution_count": 14,
   "metadata": {},
   "outputs": [],
   "source": [
    "featureArrayLength = (X_train.shape[1],X_train.shape[2])\n",
    "dropoutRate = 0.25"
   ]
  },
  {
   "cell_type": "code",
   "execution_count": 21,
   "metadata": {},
   "outputs": [],
   "source": [
    "####\n",
    "inputList = Input(shape=(featureArrayLength))\n",
    "x = GRU(40, activation=\"tanh\", recurrent_activation='hard_sigmoid')(inputList)\n",
    "x = Dropout(dropoutRate)(x)\n",
    "#\n",
    "x = Dense(20, activation='relu')(x)\n",
    "x = Dropout(dropoutRate)(x)\n",
    "#\n",
    "x = Dense(10, activation='relu')(x)\n",
    "x = Dropout(dropoutRate)(x)\n",
    "x = Dense(5, activation='relu')(x)\n",
    "#\n",
    "output = Dense(5, activation='softmax')(x)\n",
    "####\n",
    "model = Model(inputs=inputList, outputs=output)"
   ]
  },
  {
   "cell_type": "code",
   "execution_count": 22,
   "metadata": {},
   "outputs": [
    {
     "name": "stdout",
     "output_type": "stream",
     "text": [
      "_________________________________________________________________\n",
      "Layer (type)                 Output Shape              Param #   \n",
      "=================================================================\n",
      "input_6 (InputLayer)         (None, 100, 16)           0         \n",
      "_________________________________________________________________\n",
      "gru_3 (GRU)                  (None, 40)                6840      \n",
      "_________________________________________________________________\n",
      "dropout_7 (Dropout)          (None, 40)                0         \n",
      "_________________________________________________________________\n",
      "dense_9 (Dense)              (None, 20)                820       \n",
      "_________________________________________________________________\n",
      "dropout_8 (Dropout)          (None, 20)                0         \n",
      "_________________________________________________________________\n",
      "dense_10 (Dense)             (None, 10)                210       \n",
      "_________________________________________________________________\n",
      "dropout_9 (Dropout)          (None, 10)                0         \n",
      "_________________________________________________________________\n",
      "dense_11 (Dense)             (None, 5)                 55        \n",
      "_________________________________________________________________\n",
      "dense_12 (Dense)             (None, 5)                 30        \n",
      "=================================================================\n",
      "Total params: 7,955\n",
      "Trainable params: 7,955\n",
      "Non-trainable params: 0\n",
      "_________________________________________________________________\n"
     ]
    }
   ],
   "source": [
    "model.compile(loss='categorical_crossentropy', optimizer='adam')\n",
    "model.summary()"
   ]
  },
  {
   "cell_type": "markdown",
   "metadata": {},
   "source": [
    "We now train the model"
   ]
  },
  {
   "cell_type": "code",
   "execution_count": 29,
   "metadata": {},
   "outputs": [],
   "source": [
    "batch_size = 128\n",
    "n_epochs = 50"
   ]
  },
  {
   "cell_type": "code",
   "execution_count": null,
   "metadata": {},
   "outputs": [
    {
     "name": "stdout",
     "output_type": "stream",
     "text": [
      "Train on 33500 samples, validate on 16500 samples\n",
      "Epoch 1/50\n",
      " - 16s - loss: 1.3932 - val_loss: 1.3506\n",
      "Epoch 2/50\n",
      " - 16s - loss: 1.3722 - val_loss: 1.3384\n",
      "Epoch 3/50\n",
      " - 16s - loss: 1.3539 - val_loss: 1.3433\n",
      "Epoch 4/50\n",
      " - 17s - loss: 1.3425 - val_loss: 1.3206\n",
      "Epoch 5/50\n",
      " - 19s - loss: 1.3368 - val_loss: 1.3240\n",
      "Epoch 6/50\n",
      " - 17s - loss: 1.3277 - val_loss: 1.3086\n",
      "Epoch 7/50\n",
      " - 16s - loss: 1.3232 - val_loss: 1.3119\n",
      "Epoch 8/50\n",
      " - 16s - loss: 1.3191 - val_loss: 1.3035\n",
      "Epoch 9/50\n",
      " - 16s - loss: 1.3129 - val_loss: 1.3055\n",
      "Epoch 10/50\n",
      " - 17s - loss: 1.3068 - val_loss: 1.2976\n",
      "Epoch 11/50\n",
      " - 16s - loss: 1.3004 - val_loss: 1.2936\n",
      "Epoch 12/50\n",
      " - 18s - loss: 1.2992 - val_loss: 1.3067\n",
      "Epoch 13/50\n",
      " - 16s - loss: 1.2926 - val_loss: 1.2984\n",
      "Epoch 14/50\n",
      " - 16s - loss: 1.2949 - val_loss: 1.2931\n",
      "Epoch 15/50\n",
      " - 16s - loss: 1.2887 - val_loss: 1.2832\n",
      "Epoch 16/50\n",
      " - 16s - loss: 1.2819 - val_loss: 1.2674\n",
      "Epoch 17/50\n",
      " - 16s - loss: 1.2740 - val_loss: 1.2563\n",
      "Epoch 18/50\n",
      " - 16s - loss: 1.2639 - val_loss: 1.2589\n",
      "Epoch 19/50\n",
      " - 17s - loss: 1.2483 - val_loss: 1.2288\n",
      "Epoch 20/50\n",
      " - 16s - loss: 1.2343 - val_loss: 1.2180\n",
      "Epoch 21/50\n",
      " - 17s - loss: 1.2180 - val_loss: 1.2121\n",
      "Epoch 22/50\n",
      " - 17s - loss: 1.2023 - val_loss: 1.1992\n",
      "Epoch 23/50\n",
      " - 25s - loss: 1.1921 - val_loss: 1.1950\n",
      "Epoch 24/50\n",
      " - 20s - loss: 1.1763 - val_loss: 1.1632\n",
      "Epoch 25/50\n",
      " - 21s - loss: 1.1671 - val_loss: 1.1619\n",
      "Epoch 26/50\n",
      " - 29s - loss: 1.1548 - val_loss: 1.1633\n",
      "Epoch 27/50\n",
      " - 23s - loss: 1.1488 - val_loss: 1.1452\n",
      "Epoch 28/50\n",
      " - 26s - loss: 1.1336 - val_loss: 1.1045\n",
      "Epoch 29/50\n",
      " - 30s - loss: 1.1293 - val_loss: 1.0978\n",
      "Epoch 30/50\n",
      " - 32s - loss: 1.1130 - val_loss: 1.0729\n",
      "Epoch 31/50\n",
      " - 30s - loss: 1.1078 - val_loss: 1.1080\n",
      "Epoch 32/50\n",
      " - 30s - loss: 1.1041 - val_loss: 1.1549\n",
      "Epoch 33/50\n",
      " - 30s - loss: 1.1062 - val_loss: 1.0695\n",
      "Epoch 34/50\n",
      " - 30s - loss: 1.0826 - val_loss: 1.0452\n",
      "Epoch 35/50\n",
      " - 31s - loss: 1.0775 - val_loss: 1.0651\n",
      "Epoch 36/50\n",
      " - 30s - loss: 1.0746 - val_loss: 1.0317\n",
      "Epoch 37/50\n",
      " - 32s - loss: 1.0766 - val_loss: 1.0936\n",
      "Epoch 38/50\n",
      " - 36s - loss: 1.0587 - val_loss: 1.0560\n",
      "Epoch 39/50\n",
      "\n",
      "Epoch 00039: ReduceLROnPlateau reducing learning rate to 0.00010000000474974513.\n",
      " - 35s - loss: 1.0667 - val_loss: 1.0492\n",
      "Epoch 40/50\n",
      " - 33s - loss: 1.0211 - val_loss: 1.0019\n",
      "Epoch 41/50\n",
      " - 32s - loss: 1.0106 - val_loss: 0.9970\n",
      "Epoch 42/50\n",
      " - 33s - loss: 1.0092 - val_loss: 0.9972\n",
      "Epoch 43/50\n",
      " - 32s - loss: 1.0050 - val_loss: 0.9902\n",
      "Epoch 44/50\n",
      " - 33s - loss: 1.0019 - val_loss: 0.9994\n",
      "Epoch 45/50\n",
      " - 33s - loss: 0.9988 - val_loss: 0.9892\n",
      "Epoch 46/50\n",
      " - 34s - loss: 0.9997 - val_loss: 0.9900\n",
      "Epoch 47/50\n",
      " - 32s - loss: 0.9946 - val_loss: 0.9942\n",
      "Epoch 48/50\n"
     ]
    }
   ],
   "source": [
    "# train \n",
    "history = model.fit(X_train, y_train, epochs=n_epochs, batch_size=batch_size, verbose = 2,\n",
    "                validation_data=(X_val, y_val),\n",
    "                callbacks = [\n",
    "                EarlyStopping(monitor='val_loss', patience=10, verbose=1),\n",
    "                ReduceLROnPlateau(monitor='val_loss', factor=0.1, patience=2, verbose=1),\n",
    "                TerminateOnNaN()])"
   ]
  },
  {
   "cell_type": "code",
   "execution_count": 27,
   "metadata": {},
   "outputs": [
    {
     "data": {
      "image/png": "[encoded data removed]",
      "text/plain": [
       "<matplotlib.figure.Figure at 0x10c1295c0>"
      ]
     },
     "metadata": {},
     "output_type": "display_data"
    }
   ],
   "source": [
    "# plot training history\n",
    "plt.plot(history.history['loss'])\n",
    "plt.plot(history.history['val_loss'])\n",
    "plt.yscale('log')\n",
    "plt.title('Training History')\n",
    "plt.ylabel('loss')\n",
    "plt.xlabel('epoch')\n",
    "plt.legend(['training', 'validation'], loc='upper right')\n",
    "plt.show()"
   ]
  },
  {
   "cell_type": "markdown",
   "metadata": {},
   "source": [
    "We save on disk the best model, result of the training, to be then use for inference"
   ]
  },
  {
   "cell_type": "code",
   "execution_count": 29,
   "metadata": {},
   "outputs": [],
   "source": [
    "model_json = model.to_json()\n",
    "with open(\"tutorials/HiggsSchool/models/jetTagger_GRU.json\", \"w\") as json_file:\n",
    "    json_file.write(model_json)\n",
    "model.save_weights(\"tutorials/HiggsSchool/models/jetTagger_GRU.h5\")"
   ]
  },
  {
   "cell_type": "markdown",
   "metadata": {},
   "source": [
    "# Building the ROC Curves"
   ]
  },
  {
   "cell_type": "code",
   "execution_count": 30,
   "metadata": {},
   "outputs": [],
   "source": [
    "labels = ['gluon', 'quark', 'W', 'Z', 'top']"
   ]
  },
  {
   "cell_type": "code",
   "execution_count": 31,
   "metadata": {},
   "outputs": [
    {
     "data": {
      "image/png": "[encoded data removed]",
      "text/plain": [
       "<matplotlib.figure.Figure at 0x118ed45f8>"
      ]
     },
     "metadata": {},
     "output_type": "display_data"
    }
   ],
   "source": [
    "import pandas as pd\n",
    "from sklearn.metrics import roc_curve, auc\n",
    "predict_val = model.predict(X_val)\n",
    "df = pd.DataFrame()\n",
    "fpr = {}\n",
    "tpr = {}\n",
    "auc1 = {}\n",
    "\n",
    "plt.figure()\n",
    "for i, label in enumerate(labels):\n",
    "        df[label] = y_val[:,i]\n",
    "        df[label + '_pred'] = predict_val[:,i]\n",
    "\n",
    "        fpr[label], tpr[label], threshold = roc_curve(df[label],df[label+'_pred'])\n",
    "\n",
    "        auc1[label] = auc(fpr[label], tpr[label])\n",
    "\n",
    "        plt.plot(tpr[label],fpr[label],label='%s tagger, auc = %.1f%%'%(label,auc1[label]*100.))\n",
    "plt.semilogy()\n",
    "plt.xlabel(\"sig. efficiency\")\n",
    "plt.ylabel(\"bkg. mistag rate\")\n",
    "plt.ylim(0.000001,1)\n",
    "plt.grid(True)\n",
    "plt.legend(loc='lower right')\n",
    "plt.show()"
   ]
  },
  {
   "cell_type": "code",
   "execution_count": null,
   "metadata": {},
   "outputs": [],
   "source": []
  }
 ],
 "metadata": {
  "kernelspec": {
   "display_name": "Python 3",
   "language": "python",
   "name": "python3"
  },
  "language_info": {
   "codemirror_mode": {
    "name": "ipython",
    "version": 3
   },
   "file_extension": ".py",
   "mimetype": "text/x-python",
   "name": "python",
   "nbconvert_exporter": "python",
   "pygments_lexer": "ipython3",
   "version": "3.6.4"
  }
 },
 "nbformat": 4,
 "nbformat_minor": 2
}
