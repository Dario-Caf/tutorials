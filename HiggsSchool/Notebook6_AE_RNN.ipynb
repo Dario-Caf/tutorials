{
 "cells": [
  {
   "cell_type": "markdown",
   "metadata": {},
   "source": [
    "# Training an Anomalous Jet Detector with **RNN** \n",
    "\n",
    "---\n",
    "In this notebook, we train an unsupervised algorithm capable of compressing a jet image into a low-dimension laten space and, from there, reconstruct the input image. The distance between the input and te output is used to identify rare jet configurations. Applying a lower treshold on the loss, one can veto standard QCD jets (quarks and gluons) and select a sample enriched in anomalous jets (W, Z, top, etc). The model uses (De)Conv2D and Dense layers to process the image.\n",
    "\n",
    "This is based on the following papers:\n",
    "- https://arxiv.org/pdf/1808.08992.pdf\n",
    "- https://arxiv.org/pdf/1808.08979.pdf\n",
    "\n",
    "For details on the dataset, see Notebook1 and Notebook3\n",
    "\n",
    "---"
   ]
  },
  {
   "cell_type": "code",
   "execution_count": 3,
   "metadata": {},
   "outputs": [],
   "source": [
    "import os\n",
    "import h5py\n",
    "import glob\n",
    "import numpy as np\n",
    "import matplotlib.pyplot as plt"
   ]
  },
  {
   "cell_type": "code",
   "execution_count": 4,
   "metadata": {},
   "outputs": [],
   "source": [
    "%matplotlib inline"
   ]
  },
  {
   "cell_type": "markdown",
   "metadata": {},
   "source": [
    "# Preparation of the training and validation samples\n",
    "\n",
    "---\n",
    "In order to import the dataset, we now\n",
    "- clone the dataset repository (to import the data in Colab)\n",
    "- load the h5 files in the data/ repository\n",
    "- extract the data we need: a target and jetImage \n",
    "\n",
    "To type shell commands, we start the command line with !"
   ]
  },
  {
   "cell_type": "code",
   "execution_count": 5,
   "metadata": {},
   "outputs": [
    {
     "name": "stdout",
     "output_type": "stream",
     "text": [
      "fatal: destination path 'tutorials' already exists and is not an empty directory.\r\n"
     ]
    }
   ],
   "source": [
    "! git clone https://github.com/pierinim/tutorials.git"
   ]
  },
  {
   "cell_type": "code",
   "execution_count": 6,
   "metadata": {},
   "outputs": [
    {
     "name": "stdout",
     "output_type": "stream",
     "text": [
      "jetImage_7_100p_0_10000.h5     jetImage_7_100p_50000_60000.h5\r\n",
      "jetImage_7_100p_10000_20000.h5 jetImage_7_100p_60000_70000.h5\r\n",
      "jetImage_7_100p_30000_40000.h5 jetImage_7_100p_70000_80000.h5\r\n",
      "jetImage_7_100p_40000_50000.h5 jetImage_7_100p_80000_90000.h5\r\n"
     ]
    }
   ],
   "source": [
    "! ls tutorials/HiggsSchool/data"
   ]
  },
  {
   "cell_type": "code",
   "execution_count": 7,
   "metadata": {},
   "outputs": [
    {
     "name": "stdout",
     "output_type": "stream",
     "text": [
      "Appending tutorials/HiggsSchool/data/jetImage_7_100p_30000_40000.h5\n",
      "Appending tutorials/HiggsSchool/data/jetImage_7_100p_60000_70000.h5\n",
      "Appending tutorials/HiggsSchool/data/jetImage_7_100p_50000_60000.h5\n",
      "Appending tutorials/HiggsSchool/data/jetImage_7_100p_10000_20000.h5\n",
      "Appending tutorials/HiggsSchool/data/jetImage_7_100p_0_10000.h5\n",
      "(50000, 5) (50000, 100, 16)\n"
     ]
    }
   ],
   "source": [
    "target = np.array([])\n",
    "jetList = np.array([])\n",
    "# we cannot load all data on Colab. So we just take a few files\n",
    "datafiles = ['tutorials/HiggsSchool/data/jetImage_7_100p_30000_40000.h5',\n",
    "           'tutorials/HiggsSchool/data/jetImage_7_100p_60000_70000.h5',\n",
    "            'tutorials/HiggsSchool/data/jetImage_7_100p_50000_60000.h5',\n",
    "            'tutorials/HiggsSchool/data/jetImage_7_100p_10000_20000.h5',\n",
    "            'tutorials/HiggsSchool/data/jetImage_7_100p_0_10000.h5']\n",
    "# if you are running locallt, you can use the full dataset doing\n",
    "# for fileIN in glob.glob(\"tutorials/HiggsSchool/data/*h5\"):\n",
    "for fileIN in datafiles:\n",
    "    print(\"Appending %s\" %fileIN)\n",
    "    f = h5py.File(fileIN)\n",
    "    myJetList = np.array(f.get(\"jetConstituentList\"))\n",
    "    mytarget = np.array(f.get('jets')[0:,-6:-1])\n",
    "    jetList = np.concatenate([jetList, myJetList], axis=0) if jetList.size else myJetList\n",
    "    target = np.concatenate([target, mytarget], axis=0) if target.size else mytarget\n",
    "print(target.shape, jetList.shape)"
   ]
  },
  {
   "cell_type": "markdown",
   "metadata": {},
   "source": [
    "We now separate the dataset in 4:\n",
    "- a training dataset, consisting of quarks and gluons\n",
    "- three 'anomalous jets' samples: W, Z, and top"
   ]
  },
  {
   "cell_type": "code",
   "execution_count": 8,
   "metadata": {},
   "outputs": [
    {
     "name": "stdout",
     "output_type": "stream",
     "text": [
      "(19908, 100, 16) (10015, 100, 16) (10037, 100, 16) (10040, 100, 16)\n"
     ]
    }
   ],
   "source": [
    "jetList_standard = jetList[np.argmax(target,axis=1)<2]\n",
    "jetList_W = jetList[np.argmax(target,axis=1)==2]\n",
    "jetList_Z = jetList[np.argmax(target,axis=1)==3]\n",
    "jetList_t = jetList[np.argmax(target,axis=1)==4]\n",
    "print(jetList_standard.shape, jetList_W.shape, jetList_Z.shape, jetList_t.shape)"
   ]
  },
  {
   "cell_type": "markdown",
   "metadata": {},
   "source": [
    "Notice that this is an unsupervised algorithm, so we don't need the target array anymore.\n",
    "Nevertheless, we keep a part of it around, since it might be useful to test the response \n",
    "of the algorithm to quarks and gluons separetly"
   ]
  },
  {
   "cell_type": "code",
   "execution_count": 9,
   "metadata": {},
   "outputs": [],
   "source": [
    "label_standard = target[np.argmax(target,axis=1)<2]\n",
    "del target"
   ]
  },
  {
   "cell_type": "markdown",
   "metadata": {},
   "source": [
    "We now shuffle the standard-jet data and its labels, splitting them into a training, a validation+test dataset with 2:1:1 ratio. \n",
    "\n",
    "Then we separate the validation+test in two halves (training and validation)"
   ]
  },
  {
   "cell_type": "code",
   "execution_count": 10,
   "metadata": {},
   "outputs": [
    {
     "name": "stdout",
     "output_type": "stream",
     "text": [
      "(9954, 100, 16) (9954, 100, 16) (9954, 5) (9954, 5)\n",
      "(9954, 100, 16) (4977, 100, 16) (4977, 100, 16) (9954, 5) (9954, 5) (4977, 5)\n"
     ]
    }
   ],
   "source": [
    "from sklearn.model_selection import train_test_split\n",
    "X_train, X_val, label_train, label_val = t= train_test_split(jetList_standard, label_standard, test_size=0.5)\n",
    "print(X_train.shape, X_val.shape, label_train.shape, label_val.shape)\n",
    "len_val = X_val.shape[0]\n",
    "X_test = X_val[int(len_val/2.):,:,:]\n",
    "label_test = label_val[int(len_val/2.):,:]\n",
    "X_val = X_val[:int(len_val/2.),:,:]\n",
    "label_test = label_val[:int(len_val/2.),:]\n",
    "print(X_train.shape, X_val.shape, X_test.shape, label_train.shape, label_val.shape, label_test.shape)"
   ]
  },
  {
   "cell_type": "code",
   "execution_count": 11,
   "metadata": {},
   "outputs": [],
   "source": [
    "# some cleanup to save memory\n",
    "del jetList, jetList_standard"
   ]
  },
  {
   "cell_type": "markdown",
   "metadata": {},
   "source": [
    "# Building the ConvAE model"
   ]
  },
  {
   "cell_type": "code",
   "execution_count": 15,
   "metadata": {},
   "outputs": [],
   "source": [
    "# keras imports\n",
    "from keras.models import Model\n",
    "from keras.layers import Dense, Input, GRU, Activation\n",
    "from keras.layers import RepeatVector, Reshape\n",
    "from keras.utils import plot_model\n",
    "from keras import backend as K\n",
    "from keras import metrics\n",
    "from keras.callbacks import EarlyStopping, ReduceLROnPlateau, TerminateOnNaN"
   ]
  },
  {
   "cell_type": "code",
   "execution_count": 16,
   "metadata": {},
   "outputs": [
    {
     "name": "stdout",
     "output_type": "stream",
     "text": [
      "(100, 16)\n"
     ]
    }
   ],
   "source": [
    "featureArrayLength = (X_train.shape[1],X_train.shape[2])\n",
    "dropoutRate = 0.25\n",
    "print(featureArrayLength)"
   ]
  },
  {
   "cell_type": "code",
   "execution_count": 17,
   "metadata": {},
   "outputs": [],
   "source": [
    "#---------\n",
    "# Enncoder\n",
    "#---------\n",
    "inputList = Input(shape=(featureArrayLength))\n",
    "x = GRU(20, activation=\"tanh\", recurrent_activation='hard_sigmoid', return_sequences=False)(inputList)\n",
    "x = Dense(5, activation='relu')(x)\n",
    "x = Dense(20, activation='relu')(x)\n",
    "x = RepeatVector(featureArrayLength[0])(x)\n",
    "outputList = GRU(16, activation=\"tanh\", recurrent_activation='hard_sigmoid', return_sequences=True, return_state=False)(x)\n",
    "####\n",
    "#\n",
    "autoencoder = Model(inputs=inputList, outputs=outputList)\n",
    "#\n",
    "#autoencoder = Model(inputs=inputList, outputs=x)"
   ]
  },
  {
   "cell_type": "code",
   "execution_count": 18,
   "metadata": {},
   "outputs": [
    {
     "name": "stdout",
     "output_type": "stream",
     "text": [
      "_________________________________________________________________\n",
      "Layer (type)                 Output Shape              Param #   \n",
      "=================================================================\n",
      "input_2 (InputLayer)         (None, 100, 16)           0         \n",
      "_________________________________________________________________\n",
      "gru_2 (GRU)                  (None, 20)                2220      \n",
      "_________________________________________________________________\n",
      "dense_3 (Dense)              (None, 5)                 105       \n",
      "_________________________________________________________________\n",
      "dense_4 (Dense)              (None, 20)                120       \n",
      "_________________________________________________________________\n",
      "repeat_vector_1 (RepeatVecto (None, 100, 20)           0         \n",
      "_________________________________________________________________\n",
      "gru_3 (GRU)                  (None, 100, 16)           1776      \n",
      "=================================================================\n",
      "Total params: 4,221\n",
      "Trainable params: 4,221\n",
      "Non-trainable params: 0\n",
      "_________________________________________________________________\n"
     ]
    }
   ],
   "source": [
    "autoencoder.compile(loss='%cat', optimizer='adam')\n",
    "autoencoder.summary()"
   ]
  },
  {
   "cell_type": "markdown",
   "metadata": {},
   "source": [
    "We now train the model. Notice the difference with respect to the supervised case\n",
    "- the input to the training is (X,X) and nor (X, y). Similarly for the validation dataset\n",
    "- the model has no dropout. It is difficult for an unsupervised model to overtran, so there is not really a need"
   ]
  },
  {
   "cell_type": "code",
   "execution_count": 22,
   "metadata": {},
   "outputs": [],
   "source": [
    "batch_size = 128\n",
    "n_epochs = 100"
   ]
  },
  {
   "cell_type": "code",
   "execution_count": 23,
   "metadata": {},
   "outputs": [
    {
     "name": "stdout",
     "output_type": "stream",
     "text": [
      "Train on 9954 samples, validate on 4977 samples\n",
      "Epoch 1/100\n",
      " - 9s - loss: 461.5776 - val_loss: 464.9009\n",
      "Epoch 2/100\n",
      " - 9s - loss: 460.4969 - val_loss: 464.2467\n",
      "Epoch 3/100\n",
      " - 10s - loss: 460.0882 - val_loss: 464.0253\n",
      "Epoch 4/100\n",
      " - 10s - loss: 459.9628 - val_loss: 463.9561\n",
      "Epoch 5/100\n",
      " - 10s - loss: 459.9130 - val_loss: 463.9137\n",
      "Epoch 6/100\n",
      " - 10s - loss: 459.8715 - val_loss: 463.8793\n",
      "Epoch 7/100\n",
      " - 10s - loss: 459.8435 - val_loss: 463.8536\n",
      "Epoch 8/100\n",
      " - 10s - loss: 459.8241 - val_loss: 463.8455\n",
      "Epoch 9/100\n",
      " - 9s - loss: 459.8203 - val_loss: 463.8436\n",
      "Epoch 10/100\n",
      " - 10s - loss: 459.8190 - val_loss: 463.8430\n",
      "Epoch 11/100\n",
      " - 11s - loss: 459.8181 - val_loss: 463.8420\n",
      "Epoch 12/100\n",
      " - 10s - loss: 459.8182 - val_loss: 463.8421\n",
      "Epoch 13/100\n",
      " - 10s - loss: 459.8170 - val_loss: 463.8407\n",
      "Epoch 14/100\n",
      " - 10s - loss: 459.8160 - val_loss: 463.8399\n",
      "Epoch 15/100\n",
      " - 10s - loss: 459.8155 - val_loss: 463.8398\n",
      "Epoch 16/100\n",
      " - 10s - loss: 459.8158 - val_loss: 463.8398\n",
      "Epoch 17/100\n",
      " - 9s - loss: 459.8152 - val_loss: 463.8394\n",
      "Epoch 18/100\n",
      " - 9s - loss: 459.8149 - val_loss: 463.8391\n",
      "Epoch 19/100\n",
      " - 9s - loss: 459.8144 - val_loss: 463.8387\n",
      "Epoch 20/100\n",
      " - 9s - loss: 459.8141 - val_loss: 463.8380\n",
      "Epoch 21/100\n",
      " - 10s - loss: 459.8138 - val_loss: 463.8379\n",
      "Epoch 22/100\n",
      " - 9s - loss: 459.8137 - val_loss: 463.8379\n",
      "Epoch 23/100\n",
      " - 9s - loss: 459.8135 - val_loss: 463.8375\n",
      "Epoch 24/100\n",
      " - 10s - loss: 459.8131 - val_loss: 463.8379\n",
      "Epoch 25/100\n",
      " - 9s - loss: 459.8131 - val_loss: 463.8374\n",
      "Epoch 26/100\n",
      " - 9s - loss: 459.8128 - val_loss: 463.8367\n",
      "Epoch 27/100\n",
      " - 9s - loss: 459.8124 - val_loss: 463.8365\n",
      "Epoch 28/100\n",
      " - 9s - loss: 459.8123 - val_loss: 463.8362\n",
      "Epoch 29/100\n",
      " - 9s - loss: 459.8119 - val_loss: 463.8362\n",
      "Epoch 30/100\n",
      " - 9s - loss: 459.8118 - val_loss: 463.8362\n",
      "Epoch 31/100\n",
      " - 9s - loss: 459.8117 - val_loss: 463.8361\n",
      "Epoch 32/100\n",
      " - 10s - loss: 459.8113 - val_loss: 463.8352\n",
      "Epoch 33/100\n",
      " - 9s - loss: 459.8119 - val_loss: 463.8377\n",
      "Epoch 34/100\n",
      " - 9s - loss: 459.8113 - val_loss: 463.8347\n",
      "Epoch 35/100\n",
      " - 9s - loss: 459.8101 - val_loss: 463.8350\n",
      "Epoch 36/100\n",
      " - 9s - loss: 459.8114 - val_loss: 463.8354\n",
      "Epoch 37/100\n",
      "\n",
      "Epoch 00037: ReduceLROnPlateau reducing learning rate to 0.00010000000474974513.\n",
      " - 10s - loss: 459.8100 - val_loss: 463.8349\n",
      "Epoch 38/100\n",
      " - 9s - loss: 459.8092 - val_loss: 463.8331\n",
      "Epoch 39/100\n",
      " - 9s - loss: 459.8087 - val_loss: 463.8329\n",
      "Epoch 40/100\n",
      " - 9s - loss: 459.8086 - val_loss: 463.8328\n",
      "Epoch 41/100\n",
      " - 9s - loss: 459.8085 - val_loss: 463.8328\n",
      "Epoch 42/100\n",
      " - 9s - loss: 459.8085 - val_loss: 463.8327\n",
      "Epoch 43/100\n",
      " - 9s - loss: 459.8084 - val_loss: 463.8326\n",
      "Epoch 44/100\n",
      " - 9s - loss: 459.8084 - val_loss: 463.8326\n",
      "Epoch 45/100\n",
      " - 9s - loss: 459.8083 - val_loss: 463.8326\n",
      "Epoch 46/100\n",
      " - 9s - loss: 459.8082 - val_loss: 463.8325\n",
      "Epoch 47/100\n",
      " - 9s - loss: 459.8081 - val_loss: 463.8325\n",
      "Epoch 48/100\n",
      " - 9s - loss: 459.8081 - val_loss: 463.8323\n",
      "Epoch 49/100\n",
      " - 9s - loss: 459.8080 - val_loss: 463.8323\n",
      "Epoch 50/100\n",
      " - 9s - loss: 459.8079 - val_loss: 463.8323\n",
      "Epoch 51/100\n",
      " - 9s - loss: 459.8079 - val_loss: 463.8321\n",
      "Epoch 52/100\n",
      " - 9s - loss: 459.8078 - val_loss: 463.8321\n",
      "Epoch 53/100\n",
      " - 9s - loss: 459.8078 - val_loss: 463.8320\n",
      "Epoch 54/100\n",
      " - 9s - loss: 459.8078 - val_loss: 463.8320\n",
      "Epoch 55/100\n",
      " - 10s - loss: 459.8077 - val_loss: 463.8321\n",
      "Epoch 56/100\n",
      " - 9s - loss: 459.8080 - val_loss: 463.8321\n",
      "Epoch 57/100\n",
      "\n",
      "Epoch 00057: ReduceLROnPlateau reducing learning rate to 1.0000000474974514e-05.\n",
      " - 9s - loss: 459.8077 - val_loss: 463.8320\n",
      "Epoch 58/100\n",
      " - 9s - loss: 459.8076 - val_loss: 463.8319\n",
      "Epoch 59/100\n",
      "\n",
      "Epoch 00059: ReduceLROnPlateau reducing learning rate to 1.0000000656873453e-06.\n",
      " - 9s - loss: 459.8075 - val_loss: 463.8319\n",
      "Epoch 60/100\n",
      " - 9s - loss: 459.8075 - val_loss: 463.8319\n",
      "Epoch 61/100\n",
      "\n",
      "Epoch 00061: ReduceLROnPlateau reducing learning rate to 1.0000001111620805e-07.\n",
      " - 9s - loss: 459.8075 - val_loss: 463.8319\n",
      "Epoch 62/100\n",
      " - 9s - loss: 459.8075 - val_loss: 463.8319\n",
      "Epoch 63/100\n",
      "\n",
      "Epoch 00063: ReduceLROnPlateau reducing learning rate to 1.000000082740371e-08.\n",
      " - 9s - loss: 459.8075 - val_loss: 463.8319\n",
      "Epoch 64/100\n",
      " - 9s - loss: 459.8075 - val_loss: 463.8319\n",
      "Epoch 65/100\n",
      "\n",
      "Epoch 00065: ReduceLROnPlateau reducing learning rate to 1.000000082740371e-09.\n",
      " - 9s - loss: 459.8075 - val_loss: 463.8319\n",
      "Epoch 66/100\n",
      " - 9s - loss: 459.8075 - val_loss: 463.8319\n",
      "Epoch 67/100\n",
      "\n",
      "Epoch 00067: ReduceLROnPlateau reducing learning rate to 1.000000082740371e-10.\n",
      " - 10s - loss: 459.8075 - val_loss: 463.8319\n",
      "Epoch 68/100\n",
      " - 9s - loss: 459.8075 - val_loss: 463.8319\n",
      "Epoch 69/100\n",
      "\n",
      "Epoch 00069: ReduceLROnPlateau reducing learning rate to 1.000000082740371e-11.\n",
      " - 9s - loss: 459.8075 - val_loss: 463.8319\n",
      "Epoch 70/100\n",
      " - 9s - loss: 459.8075 - val_loss: 463.8319\n",
      "Epoch 71/100\n",
      "\n",
      "Epoch 00071: ReduceLROnPlateau reducing learning rate to 1.000000082740371e-12.\n",
      " - 9s - loss: 459.8075 - val_loss: 463.8319\n",
      "Epoch 00071: early stopping\n"
     ]
    }
   ],
   "source": [
    "# train \n",
    "history = autoencoder.fit(X_train, X_train, epochs=n_epochs, batch_size=batch_size, verbose = 2,\n",
    "                validation_data=(X_val, X_val),\n",
    "                callbacks = [\n",
    "                EarlyStopping(monitor='val_loss', patience=10, verbose=1),\n",
    "                ReduceLROnPlateau(monitor='val_loss', factor=0.1, patience=2, verbose=1),\n",
    "                TerminateOnNaN()])"
   ]
  },
  {
   "cell_type": "code",
   "execution_count": 31,
   "metadata": {},
   "outputs": [
    {
     "data": {
      "image/png": "[encoded data removed]",
      "text/plain": [
       "<matplotlib.figure.Figure at 0x134e92470>"
      ]
     },
     "metadata": {},
     "output_type": "display_data"
    }
   ],
   "source": [
    "# plot training history\n",
    "plt.plot(history.history['loss'])\n",
    "plt.plot(history.history['val_loss'])\n",
    "#plt.yscale('log')\n",
    "plt.title('Training History')\n",
    "plt.ylabel('loss')\n",
    "plt.xlabel('epoch')\n",
    "plt.legend(['training', 'validation'], loc='upper right')\n",
    "plt.show()"
   ]
  },
  {
   "cell_type": "markdown",
   "metadata": {},
   "source": [
    "We save on disk the best model, result of the training, to be then use for inference"
   ]
  },
  {
   "cell_type": "code",
   "execution_count": 25,
   "metadata": {},
   "outputs": [
    {
     "ename": "FileNotFoundError",
     "evalue": "[Errno 2] No such file or directory: 'tutorials/HiggsSchool/models/jetAE_RNN.json'",
     "output_type": "error",
     "traceback": [
      "\u001b[0;31m---------------------------------------------------------------------------\u001b[0m",
      "\u001b[0;31mFileNotFoundError\u001b[0m                         Traceback (most recent call last)",
      "\u001b[0;32m<ipython-input-25-446caca732f2>\u001b[0m in \u001b[0;36m<module>\u001b[0;34m()\u001b[0m\n\u001b[1;32m      1\u001b[0m \u001b[0mmodel_json\u001b[0m \u001b[0;34m=\u001b[0m \u001b[0mautoencoder\u001b[0m\u001b[0;34m.\u001b[0m\u001b[0mto_json\u001b[0m\u001b[0;34m(\u001b[0m\u001b[0;34m)\u001b[0m\u001b[0;34m\u001b[0m\u001b[0m\n\u001b[0;32m----> 2\u001b[0;31m \u001b[0;32mwith\u001b[0m \u001b[0mopen\u001b[0m\u001b[0;34m(\u001b[0m\u001b[0;34m\"tutorials/HiggsSchool/models/jetAE_RNN.json\"\u001b[0m\u001b[0;34m,\u001b[0m \u001b[0;34m\"w\"\u001b[0m\u001b[0;34m)\u001b[0m \u001b[0;32mas\u001b[0m \u001b[0mjson_file\u001b[0m\u001b[0;34m:\u001b[0m\u001b[0;34m\u001b[0m\u001b[0m\n\u001b[0m\u001b[1;32m      3\u001b[0m     \u001b[0mjson_file\u001b[0m\u001b[0;34m.\u001b[0m\u001b[0mwrite\u001b[0m\u001b[0;34m(\u001b[0m\u001b[0mmodel_json\u001b[0m\u001b[0;34m)\u001b[0m\u001b[0;34m\u001b[0m\u001b[0m\n\u001b[1;32m      4\u001b[0m \u001b[0mautoencoder\u001b[0m\u001b[0;34m.\u001b[0m\u001b[0msave_weights\u001b[0m\u001b[0;34m(\u001b[0m\u001b[0;34m\"tutorials/HiggsSchool/models/jetAE_RNN.h5\"\u001b[0m\u001b[0;34m)\u001b[0m\u001b[0;34m\u001b[0m\u001b[0m\n",
      "\u001b[0;31mFileNotFoundError\u001b[0m: [Errno 2] No such file or directory: 'tutorials/HiggsSchool/models/jetAE_RNN.json'"
     ]
    }
   ],
   "source": [
    "model_json = autoencoder.to_json()\n",
    "with open(\"tutorials/HiggsSchool/models/jetAE_RNN.json\", \"w\") as json_file:\n",
    "    json_file.write(model_json)\n",
    "autoencoder.save_weights(\"tutorials/HiggsSchool/models/jetAE_RNN.h5\")"
   ]
  },
  {
   "cell_type": "markdown",
   "metadata": {},
   "source": [
    "# Loss Distributions"
   ]
  },
  {
   "cell_type": "code",
   "execution_count": 46,
   "metadata": {},
   "outputs": [],
   "source": [
    "labels = ['W', 'Z', 'top']"
   ]
  },
  {
   "cell_type": "code",
   "execution_count": 47,
   "metadata": {},
   "outputs": [],
   "source": [
    "anomaly = [jetList_W, jetList_Z, jetList_t]\n",
    "predictedQCD = autoencoder.predict(X_test)\n",
    "predicted_anomaly = []\n",
    "for i in range(len(labels)):\n",
    "    predicted_anomaly.append(autoencoder.predict(anomaly[i]))"
   ]
  },
  {
   "cell_type": "code",
   "execution_count": 48,
   "metadata": {},
   "outputs": [],
   "source": [
    "def mse(List_in, List_out):\n",
    "    mse = (List_out-List_in)*(List_out-List_in)\n",
    "    # sum over features\n",
    "    mse = np.sum(mse,axis=-1)\n",
    "    # sum over particles\n",
    "    mse = np.sum(mse, axis=-1)\n",
    "    return mse    "
   ]
  },
  {
   "cell_type": "code",
   "execution_count": 49,
   "metadata": {},
   "outputs": [],
   "source": [
    "lossQCD = mse(X_test, predictedQCD)\n",
    "loss_anomaly = []\n",
    "for i in range(len(labels)):\n",
    "    loss_anomaly.append(mse(anomaly[i], predicted_anomaly[i]))"
   ]
  },
  {
   "cell_type": "code",
   "execution_count": 50,
   "metadata": {},
   "outputs": [
    {
     "name": "stdout",
     "output_type": "stream",
     "text": [
      "(4977,)\n"
     ]
    }
   ],
   "source": [
    "print(lossQCD.shape)"
   ]
  },
  {
   "cell_type": "code",
   "execution_count": 53,
   "metadata": {},
   "outputs": [
    {
     "data": {
      "image/png": "[encoded data removed]",
      "text/plain": [
       "<matplotlib.figure.Figure at 0x134bf3748>"
      ]
     },
     "metadata": {},
     "output_type": "display_data"
    }
   ],
   "source": [
    "maxScore = np.max(lossQCD)\n",
    "# plot QCD\n",
    "plt.figure()\n",
    "#plt.hist(lossQCD, bins=100, label='QCD', density=True, range=(0, maxScore), \n",
    "plt.hist(lossQCD, bins=100, label='QCD', density=True, \n",
    "         histtype='step', fill=False, linewidth=1.5)\n",
    "for i in range(len(labels)):\n",
    "    plt.hist(loss_anomaly[i], bins=100, label=labels[i], density=True, range=(0, maxScore),\n",
    "            histtype='step', fill=False, linewidth=1.5)\n",
    "plt.semilogy()\n",
    "plt.xlabel(\"AE Loss\")\n",
    "plt.ylabel(\"Probability (a.u.)\")\n",
    "plt.grid(True)\n",
    "plt.legend(loc='upper right')\n",
    "plt.show()"
   ]
  },
  {
   "cell_type": "markdown",
   "metadata": {},
   "source": [
    "# Building the ROC Curves"
   ]
  },
  {
   "cell_type": "code",
   "execution_count": 54,
   "metadata": {},
   "outputs": [
    {
     "name": "stdout",
     "output_type": "stream",
     "text": [
      "(10015,) (4977,)\n",
      "(14992,) (14992,)\n",
      "(10037,) (4977,)\n",
      "(15014,) (15014,)\n",
      "(10040,) (4977,)\n",
      "(15017,) (15017,)\n"
     ]
    },
    {
     "data": {
      "image/png": "[encoded data removed]",
      "text/plain": [
       "<matplotlib.figure.Figure at 0x134145c18>"
      ]
     },
     "metadata": {},
     "output_type": "display_data"
    }
   ],
   "source": [
    "from sklearn.metrics import roc_curve, auc\n",
    "plt.figure()\n",
    "targetQCD = np.zeros(lossQCD.shape[0])\n",
    "for i, label in enumerate(labels):\n",
    "        print(loss_anomaly[i].shape, targetQCD.shape)\n",
    "        trueVal = np.concatenate((np.ones(loss_anomaly[i].shape[0]),targetQCD))\n",
    "        predVal = np.concatenate((loss_anomaly[i],lossQCD))\n",
    "        print(trueVal.shape, predVal.shape)\n",
    "        fpr, tpr, threshold = roc_curve(trueVal,predVal)\n",
    "        auc1= auc(fpr, tpr)\n",
    "        plt.plot(tpr,fpr,label='%s Anomaly Detection, auc = %.1f%%'%(label,auc1*100.))\n",
    "plt.semilogy()\n",
    "plt.xlabel(\"sig. efficiency\")\n",
    "plt.ylabel(\"bkg. mistag rate\")\n",
    "plt.grid(True)\n",
    "plt.legend(loc='lower right')\n",
    "plt.show()"
   ]
  },
  {
   "cell_type": "code",
   "execution_count": null,
   "metadata": {},
   "outputs": [],
   "source": []
  }
 ],
 "metadata": {
  "kernelspec": {
   "display_name": "Python 3",
   "language": "python",
   "name": "python3"
  },
  "language_info": {
   "codemirror_mode": {
    "name": "ipython",
    "version": 3
   },
   "file_extension": ".py",
   "mimetype": "text/x-python",
   "name": "python",
   "nbconvert_exporter": "python",
   "pygments_lexer": "ipython3",
   "version": "3.6.4"
  }
 },
 "nbformat": 4,
 "nbformat_minor": 2
}
